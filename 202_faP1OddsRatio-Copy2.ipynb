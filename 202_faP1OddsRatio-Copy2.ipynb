{
 "cells": [
  {
   "cell_type": "code",
   "execution_count": 1,
   "id": "496e49ca-8458-4358-87db-b7ae4b95e271",
   "metadata": {},
   "outputs": [],
   "source": [
    "import pandas as pd\n",
    "df = pd.read_csv(\"../../Data/embedding_matrix_1025_famo.csv\",index_col=0)"
   ]
  },
  {
   "cell_type": "code",
   "execution_count": 2,
   "id": "7b758dbe-16fd-4bfb-9b7d-e7a1eb3c1b24",
   "metadata": {
    "scrolled": true
   },
   "outputs": [
    {
     "name": "stdout",
     "output_type": "stream",
     "text": [
      "                    Node  Odds Ratio\n",
      "0      ENSG00000223764.2         inf\n",
      "1     ENSG00000187634.12         inf\n",
      "2     ENSG00000188976.11    1.133887\n",
      "3     ENSG00000187961.14         inf\n",
      "4      ENSG00000215790.7         inf\n",
      "...                  ...         ...\n",
      "2589  ENSG00000169057.23         inf\n",
      "2590  ENSG00000007350.17         inf\n",
      "2591  ENSG00000196924.18         inf\n",
      "2592  ENSG00000013563.14         inf\n",
      "2593  ENSG00000160211.19         inf\n",
      "\n",
      "[2594 rows x 2 columns]\n"
     ]
    }
   ],
   "source": [
    "import pandas as pd\n",
    "import scipy.stats as stats\n",
    "\n",
    "# Step 1: Convert non-zero values to 1, keep 0 as is\n",
    "df_binary = df.copy()\n",
    "node_columns = [col for col in df.columns if col not in ['SFARI ID', 'Repository Id','Role','ASD']]  # Assuming all columns except 'Role' are node columns\n",
    "df_binary[node_columns] = (df_binary[node_columns] > 0).astype(int)  # Convert to binary (0 or 1)\n",
    "\n",
    "# Step 2: Calculate odds ratio for each node\n",
    "odds_ratios = {}\n",
    "\n",
    "for node in node_columns:\n",
    "    # Create a contingency table for 'fa' and 'mo'\n",
    "    contingency_table = pd.crosstab(df_binary['Role'], df_binary[node])\n",
    "\n",
    "    # Check if the table has both 0 and 1 for both 'fa' and 'mo'\n",
    "    if contingency_table.shape == (2, 2):\n",
    "        # Calculate the odds ratio\n",
    "        odds_ratio, p_value = stats.fisher_exact(contingency_table)\n",
    "        odds_ratios[node] = odds_ratio\n",
    "    else:\n",
    "        # Skip nodes where the contingency table is not 2x2\n",
    "        #print(f\"Skipping node {node} due to incomplete contingency table\")\n",
    "        odds_ratios[node] = None  # Or handle however you'd prefer\n",
    "\n",
    "# Display the odds ratios\n",
    "odds_ratios_df = pd.DataFrame(list(odds_ratios.items()), columns=['Node', 'Odds Ratio'])\n",
    "print(odds_ratios_df)\n"
   ]
  },
  {
   "cell_type": "code",
   "execution_count": 3,
   "id": "9c960432-31ec-44cf-b7f2-19c62f50c228",
   "metadata": {},
   "outputs": [
    {
     "data": {
      "text/html": [
       "<div>\n",
       "<style scoped>\n",
       "    .dataframe tbody tr th:only-of-type {\n",
       "        vertical-align: middle;\n",
       "    }\n",
       "\n",
       "    .dataframe tbody tr th {\n",
       "        vertical-align: top;\n",
       "    }\n",
       "\n",
       "    .dataframe thead th {\n",
       "        text-align: right;\n",
       "    }\n",
       "</style>\n",
       "<table border=\"1\" class=\"dataframe\">\n",
       "  <thead>\n",
       "    <tr style=\"text-align: right;\">\n",
       "      <th>ENSG00000160211.19</th>\n",
       "      <th>0</th>\n",
       "      <th>1</th>\n",
       "    </tr>\n",
       "    <tr>\n",
       "      <th>Role</th>\n",
       "      <th></th>\n",
       "      <th></th>\n",
       "    </tr>\n",
       "  </thead>\n",
       "  <tbody>\n",
       "    <tr>\n",
       "      <th>fa</th>\n",
       "      <td>2</td>\n",
       "      <td>748</td>\n",
       "    </tr>\n",
       "    <tr>\n",
       "      <th>mo</th>\n",
       "      <td>0</td>\n",
       "      <td>761</td>\n",
       "    </tr>\n",
       "  </tbody>\n",
       "</table>\n",
       "</div>"
      ],
      "text/plain": [
       "ENSG00000160211.19  0    1\n",
       "Role                      \n",
       "fa                  2  748\n",
       "mo                  0  761"
      ]
     },
     "execution_count": 3,
     "metadata": {},
     "output_type": "execute_result"
    }
   ],
   "source": [
    "pd.crosstab(df_binary['Role'], df_binary[node])"
   ]
  },
  {
   "cell_type": "code",
   "execution_count": 4,
   "id": "cfdf1d55-6d71-4e8b-b540-eb95c54c9f64",
   "metadata": {},
   "outputs": [
    {
     "name": "stdout",
     "output_type": "stream",
     "text": [
      "[1 0]\n"
     ]
    }
   ],
   "source": [
    "node = node_columns[1]\n",
    "print(df_binary[node].unique())"
   ]
  },
  {
   "cell_type": "code",
   "execution_count": 8,
   "id": "ef03ade6-f839-4837-bc8d-1e8b2ed1ec30",
   "metadata": {},
   "outputs": [
    {
     "data": {
      "text/plain": [
       "1992"
      ]
     },
     "execution_count": 8,
     "metadata": {},
     "output_type": "execute_result"
    }
   ],
   "source": [
    "sum(odds_ratios_df['Odds Ratio'] == np.inf)"
   ]
  },
  {
   "cell_type": "code",
   "execution_count": 5,
   "id": "0307d10d-fd6c-4d86-9dde-ac16843c224f",
   "metadata": {},
   "outputs": [
    {
     "data": {
      "image/png": "[encoded data removed]",
      "text/plain": [
       "<Figure size 640x480 with 1 Axes>"
      ]
     },
     "metadata": {},
     "output_type": "display_data"
    }
   ],
   "source": [
    "import matplotlib.pyplot as plt\n",
    "import numpy as np\n",
    "\n",
    "# Filter out NaN and infinite values\n",
    "filtered_odds_ratios = odds_ratios_df['Odds Ratio'].replace([np.inf, -np.inf], np.nan).dropna()\n",
    "\n",
    "# Plot the histogram\n",
    "plt.hist(filtered_odds_ratios, bins=30, edgecolor='black')\n",
    "plt.xlabel('Odds Ratio')\n",
    "plt.ylabel('Frequency')\n",
    "plt.title('Nodes SNP Odds Ratios fa/mo (excluding NaN and inf)')\n",
    "plt.show()\n"
   ]
  },
  {
   "cell_type": "code",
   "execution_count": null,
   "id": "3083d5b7-cc83-4d25-bd72-ac298802a578",
   "metadata": {},
   "outputs": [],
   "source": []
  },
  {
   "cell_type": "markdown",
   "id": "210060e3-9d41-4a6a-9143-4d82c12db20b",
   "metadata": {},
   "source": [
    "# mo / fa"
   ]
  },
  {
   "cell_type": "code",
   "execution_count": 15,
   "id": "a087e401-270c-45d7-8468-5eb3ce870638",
   "metadata": {
    "scrolled": true
   },
   "outputs": [
    {
     "name": "stdout",
     "output_type": "stream",
     "text": [
      "                    Node  Odds Ratio (mo/fa)\n",
      "0      ENSG00000223764.2            0.000000\n",
      "1     ENSG00000187634.12            0.000000\n",
      "2     ENSG00000188976.11            0.881922\n",
      "3     ENSG00000187961.14            0.000000\n",
      "4      ENSG00000215790.7            0.000000\n",
      "...                  ...                 ...\n",
      "2589  ENSG00000169057.23            0.000000\n",
      "2590  ENSG00000007350.17            0.000000\n",
      "2591  ENSG00000196924.18            0.000000\n",
      "2592  ENSG00000013563.14            0.000000\n",
      "2593  ENSG00000160211.19            0.000000\n",
      "\n",
      "[2594 rows x 2 columns]\n"
     ]
    }
   ],
   "source": [
    "import pandas as pd\n",
    "import scipy.stats as stats\n",
    "import numpy as np\n",
    "\n",
    "# Step 1: Convert non-zero values to 1, keep 0 as is\n",
    "df_binary = df.copy()\n",
    "node_columns = [col for col in df.columns if col not in ['SFARI ID', 'Repository Id','Role','ASD']]  # Assuming all columns except 'Role' are node columns\n",
    "df_binary[node_columns] = (df_binary[node_columns] > 0).astype(int)  # Convert to binary (0 or 1)\n",
    "\n",
    "# Step 2: Calculate odds ratio for each node\n",
    "odds_ratios = {}\n",
    "\n",
    "for node in node_columns:\n",
    "    # Create a contingency table for 'fa' and 'mo'\n",
    "    contingency_table = pd.crosstab(df_binary['Role'], df_binary[node])\n",
    "\n",
    "    # Check if the table has both 0 and 1 for both 'fa' and 'mo'\n",
    "    if contingency_table.shape == (2, 2):\n",
    "        # Calculate the odds ratio (mo/fa)\n",
    "        odds_ratio, p_value = stats.fisher_exact(contingency_table, alternative='two-sided')\n",
    "        \n",
    "        # Avoid division by zero\n",
    "        if odds_ratio == 0:\n",
    "            odds_ratios[node] = np.inf  # Assign infinity if odds_ratio is zero\n",
    "        else:\n",
    "            odds_ratios[node] = 1 / odds_ratio  # This gives you mo/fa\n",
    "    else:\n",
    "        # Skip nodes where the contingency table is not 2x2\n",
    "        odds_ratios[node] = None  # Or handle however you'd prefer\n",
    "\n",
    "# Display the odds ratios\n",
    "odds_ratios_df = pd.DataFrame(list(odds_ratios.items()), columns=['Node', 'Odds Ratio (mo/fa)'])\n",
    "print(odds_ratios_df)\n"
   ]
  },
  {
   "cell_type": "code",
   "execution_count": 16,
   "id": "942c672c-4a05-4a4e-8d66-7c7eb634e8b3",
   "metadata": {},
   "outputs": [
    {
     "data": {
      "image/png": "[encoded data removed]",
      "text/plain": [
       "<Figure size 640x480 with 1 Axes>"
      ]
     },
     "metadata": {},
     "output_type": "display_data"
    }
   ],
   "source": [
    "import matplotlib.pyplot as plt\n",
    "import numpy as np\n",
    "\n",
    "# Filter out NaN and infinite values\n",
    "filtered_odds_ratios = odds_ratios_df['Odds Ratio (mo/fa)'].replace([np.inf, -np.inf], np.nan).dropna()\n",
    "\n",
    "# Plot the histogram\n",
    "plt.hist(filtered_odds_ratios, bins=30, edgecolor='black')\n",
    "plt.xlabel('Odds Ratio')\n",
    "plt.ylabel('Frequency')\n",
    "plt.title('Nodes SNP Odds Ratios mo/fa (excluding NaN and inf)')\n",
    "plt.show()\n"
   ]
  },
  {
   "cell_type": "code",
   "execution_count": 17,
   "id": "39296b13-bc2a-4360-a17e-f0e661395270",
   "metadata": {},
   "outputs": [
    {
     "data": {
      "text/html": [
       "<div>\n",
       "<style scoped>\n",
       "    .dataframe tbody tr th:only-of-type {\n",
       "        vertical-align: middle;\n",
       "    }\n",
       "\n",
       "    .dataframe tbody tr th {\n",
       "        vertical-align: top;\n",
       "    }\n",
       "\n",
       "    .dataframe thead th {\n",
       "        text-align: right;\n",
       "    }\n",
       "</style>\n",
       "<table border=\"1\" class=\"dataframe\">\n",
       "  <thead>\n",
       "    <tr style=\"text-align: right;\">\n",
       "      <th></th>\n",
       "      <th>Node</th>\n",
       "      <th>Odds Ratio (mo/fa)</th>\n",
       "    </tr>\n",
       "  </thead>\n",
       "  <tbody>\n",
       "    <tr>\n",
       "      <th>1376</th>\n",
       "      <td>ENSG00000166352.16</td>\n",
       "      <td>3.315579</td>\n",
       "    </tr>\n",
       "    <tr>\n",
       "      <th>2141</th>\n",
       "      <td>ENSG00000215474.7</td>\n",
       "      <td>3.315579</td>\n",
       "    </tr>\n",
       "  </tbody>\n",
       "</table>\n",
       "</div>"
      ],
      "text/plain": [
       "                    Node  Odds Ratio (mo/fa)\n",
       "1376  ENSG00000166352.16            3.315579\n",
       "2141   ENSG00000215474.7            3.315579"
      ]
     },
     "execution_count": 17,
     "metadata": {},
     "output_type": "execute_result"
    }
   ],
   "source": [
    "odds_ratios_df[(odds_ratios_df['Odds Ratio (mo/fa)'] > 2) & (odds_ratios_df['Odds Ratio (mo/fa)'] < 10)]"
   ]
  },
  {
   "cell_type": "code",
   "execution_count": null,
   "id": "38068120-24b4-404f-bc30-a76547af24eb",
   "metadata": {},
   "outputs": [],
   "source": []
  },
  {
   "cell_type": "code",
   "execution_count": null,
   "id": "49f681f7-14a5-448a-980d-961fb34c2390",
   "metadata": {},
   "outputs": [],
   "source": []
  },
  {
   "cell_type": "code",
   "execution_count": null,
   "id": "4f8dc3a2-99c3-479e-8a08-2f50fd6b9224",
   "metadata": {},
   "outputs": [],
   "source": []
  }
 ],
 "metadata": {
  "kernelspec": {
   "display_name": "Python 3 (ipykernel)",
   "language": "python",
   "name": "python3"
  },
  "language_info": {
   "codemirror_mode": {
    "name": "ipython",
    "version": 3
   },
   "file_extension": ".py",
   "mimetype": "text/x-python",
   "name": "python",
   "nbconvert_exporter": "python",
   "pygments_lexer": "ipython3",
   "version": "3.11.9"
  }
 },
 "nbformat": 4,
 "nbformat_minor": 5
}
