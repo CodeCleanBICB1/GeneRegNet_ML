{
 "cells": [
  {
   "cell_type": "markdown",
   "id": "ac077765-0509-45ff-8e3e-30c5be9096ee",
   "metadata": {},
   "source": [
    "# Introduction\n",
    "\n",
    "This notebook includes a function, preprocess_embedding_matrix, designed to filter and preprocess a genotype embedding matrix for further analysis. The function focuses on:\n",
    "\n",
    "Selecting Transcription Factor (TF) Columns Only: It removes any columns that don’t contain TF data, ensuring only relevant features are retained.\n",
    "Filtering TF Columns: It removes columns that contain only zeroes, only ones, or only twos, reducing redundancy in the dataset.\n",
    "Merging Informative Data: After filtering, it merges the reduced TF matrix with additional columns from an ID map file, which includes informative metadata such as Role, SFARI ID, and Repository Id.\n",
    "The result is a streamlined embedding matrix with relevant TF columns and necessary metadata, ready for subsequent analysis."
   ]
  },
  {
   "cell_type": "code",
   "execution_count": 17,
   "id": "6adafc5a-a2d4-4444-b2db-735d59e41d85",
   "metadata": {},
   "outputs": [
    {
     "name": "stdout",
     "output_type": "stream",
     "text": [
      "Generated full embedding matrix.\n",
      "Saved subset embedding for pair ('fa', 'mo') at ../../Data/embedding_matrix_fa_mo_2024_10_30.csv\n",
      "Saved subset embedding for pair ('fa', 'p1') at ../../Data/embedding_matrix_fa_p1_2024_10_30.csv\n",
      "Saved subset embedding for pair ('mo', 'p1') at ../../Data/embedding_matrix_mo_p1_2024_10_30.csv\n",
      "Saved subset embedding for pair ('s1', 'p1') at ../../Data/embedding_matrix_s1_p1_2024_10_30.csv\n",
      "Saved subset embedding for pair ('fa', 's1') at ../../Data/embedding_matrix_fa_s1_2024_10_30.csv\n",
      "Saved full embedding matrix at ../../Data/full_embedding_matrix_2024_10_30.csv\n"
     ]
    }
   ],
   "source": [
    "import os\n",
    "import pandas as pd\n",
    "from datetime import datetime\n",
    "\n",
    "def load_embedding_matrices(embeddings_folder):\n",
    "    \"\"\"Load and concatenate all embedding matrices from the specified folder.\"\"\"\n",
    "    embedding_files = [\n",
    "        os.path.join(embeddings_folder, file) \n",
    "        for file in os.listdir(embeddings_folder) if file.endswith('.csv')\n",
    "    ]\n",
    "    dfs = [pd.read_csv(file, index_col=0) for file in embedding_files]\n",
    "    embedding_matrix_raw = pd.concat(dfs)\n",
    "    embedding_matrix_raw = embedding_matrix_raw.astype(int)\n",
    "    embedding_matrix_raw.index = [x.replace('.bed', \"\") for x in embedding_matrix_raw.index]\n",
    "    return embedding_matrix_raw\n",
    "\n",
    "def load_id_map(id_map_loc):\n",
    "    \"\"\"Load the ID map and add role information for each entry.\"\"\"\n",
    "    id_map = pd.read_csv(id_map_loc)\n",
    "    id_map['Role'] = id_map['SFARI ID'].apply(lambda x: x.split(\".\")[1])\n",
    "    return id_map\n",
    "\n",
    "def preprocess_embedding_matrix(embedding_matri_raw, id_map):\n",
    "    \"\"\"Filter and preprocess the embedding matrix, keeping only TF columns.\"\"\"\n",
    "\n",
    "    TF_Cols = [col for col in embedding_matrix_raw.columns if 'ENS' in col]\n",
    "    embedding_matrix_raw = embedding_matrix_raw.loc[:, TF_Cols]\n",
    "    \n",
    "    embedding_matrix_raw = embedding_matrix_raw.loc[:, embedding_matrix_raw.sum() > 0]\n",
    "    embedding_matrix_raw = embedding_matrix_raw.loc[:, (embedding_matrix_raw != 1).any(axis=0)]\n",
    "    embedding_matrix_raw = embedding_matrix_raw.loc[:, (embedding_matrix_raw != 2).any(axis=0)]\n",
    "\n",
    "    embedding_matrix = pd.merge(id_map, embedding_matrix_raw, left_on='Repository Id', right_index=True)\n",
    "    embedding_matrix['ASD'] = embedding_matrix['Role'].apply(lambda x: 1 if x[0] == 'p' else 0)\n",
    "    \n",
    "\n",
    "    return embedding_matrix\n",
    "\n",
    "def save_subset_embedding(embedding_matrix, pair, output_dir=\"../../Data/\"):\n",
    "    \"\"\"Save a subset of the embedding matrix for a given pair of roles.\"\"\"\n",
    "    subset = embedding_matrix[embedding_matrix['Role'].isin(pair)]\n",
    "    output_path = f\"{output_dir}embedding_matrix_{pair[0]}_{pair[1]}_{datetime.now().strftime('%Y_%m_%d')}.csv\"\n",
    "    subset.to_csv(output_path)\n",
    "    print(f\"Saved subset embedding for pair {pair} at {output_path}\")\n",
    "\n",
    "def generate_all_subsets(embedding_matrix, pairs, output_dir=\"../../Data/\"):\n",
    "    \"\"\"Generate and save subset embeddings for each pair of roles.\"\"\"\n",
    "    for pair in pairs:\n",
    "        save_subset_embedding(embedding_matrix, pair, output_dir)\n",
    "\n",
    "def main(pairs, embeddings_folder='../../Data/TF_Embeddings_Multiclass/', id_map_loc=\"../../Data/SSC_VEP_GZ/documentation/nygc_sfari_id_map.csv\"):\n",
    "    # Load and preprocess full embedding matrix\n",
    "    embedding_matrix_raw = load_embedding_matrices(embeddings_folder)\n",
    "    id_map = load_id_map(id_map_loc)\n",
    "    \n",
    "    embedding_matrix = preprocess_embedding_matrix(embedding_matrix_raw, id_map)\n",
    "    print(\"Generated full embedding matrix.\")\n",
    "\n",
    "    # Save subsets for each pair\n",
    "    generate_all_subsets(embedding_matrix, pairs)\n",
    "\n",
    "    # Optionally save the full embedding matrix\n",
    "    full_output_path = f\"../../Data/full_embedding_matrix_{datetime.now().strftime('%Y_%m_%d')}.csv\"\n",
    "    embedding_matrix.to_csv(full_output_path)\n",
    "    print(f\"Saved full embedding matrix at {full_output_path}\")\n",
    "\n",
    "# Define your pairs and call main\n",
    "pairs = [('fa', 'mo'), ('fa', 'p1'), ('mo', 'p1'), ('s1', 'p1'), ('fa', 's1')]\n",
    "main(pairs)\n"
   ]
  }
 ],
 "metadata": {
  "kernelspec": {
   "display_name": "Python 3 (ipykernel)",
   "language": "python",
   "name": "python3"
  },
  "language_info": {
   "codemirror_mode": {
    "name": "ipython",
    "version": 3
   },
   "file_extension": ".py",
   "mimetype": "text/x-python",
   "name": "python",
   "nbconvert_exporter": "python",
   "pygments_lexer": "ipython3",
   "version": "3.11.9"
  }
 },
 "nbformat": 4,
 "nbformat_minor": 5
}
